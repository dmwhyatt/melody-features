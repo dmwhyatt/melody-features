{
 "cells": [
  {
   "cell_type": "markdown",
   "id": "0fff355a",
   "metadata": {},
   "source": [
    "## Melody Features"
   ]
  },
  {
   "cell_type": "markdown",
   "id": "33c5ce29",
   "metadata": {},
   "source": [
    "This notebook seeks to illustrate how to use the Melodic Feature Set. The feature set is accessed using the top level function `get_all_features`. This function computes a wide range of features on every melody found in the input directory, returning a single .csv file with all melodies and their features. "
   ]
  },
  {
   "cell_type": "code",
   "execution_count": null,
   "id": "9aa17495",
   "metadata": {},
   "outputs": [],
   "source": [
    "from melody_features import get_all_features\n",
    "from melody_features.corpus import get_corpus_files\n",
    "\n",
    "first_ten_essen = get_corpus_files('essen', max_files=10)\n",
    "\n",
    "features = get_all_features(first_ten_essen)\n",
    "features.head()\n"
   ]
  },
  {
   "cell_type": "markdown",
   "id": "62e5b692",
   "metadata": {},
   "source": [
    "We can save the results of the feature calculations to a csv file using the below:"
   ]
  },
  {
   "cell_type": "code",
   "execution_count": null,
   "id": "c74bb5a5",
   "metadata": {},
   "outputs": [],
   "source": [
    "features.to_csv('output.csv')"
   ]
  },
  {
   "cell_type": "markdown",
   "id": "f4418e8b",
   "metadata": {},
   "source": [
    "The feature set has a few customisable aspects that change the behaviour of some of the feature calculations. There is no requirement to customise this configuration, as sensible values recommended in the literature are supplied as defaults. However, for users seeking more control over the behaviour of FANTASTIC and IDyOM, the `Config` dataclass is provided:"
   ]
  },
  {
   "cell_type": "code",
   "execution_count": null,
   "id": "ce6e8ea9",
   "metadata": {},
   "outputs": [],
   "source": [
    "# Import the Config dataclasses\n",
    "from melody_features.features import Config, IDyOMConfig, FantasticConfig"
   ]
  },
  {
   "cell_type": "markdown",
   "id": "c6e219b1",
   "metadata": {},
   "source": [
    "Once we import these dataclasses, we can begin to customise our configuration:"
   ]
  },
  {
   "cell_type": "code",
   "execution_count": null,
   "id": "b83d4a97",
   "metadata": {},
   "outputs": [],
   "source": [
    "# Initialise the config object with the relevant parameters\n",
    "from melody_features import essen_corpus\n",
    "\n",
    "config = Config(\n",
    "    corpus=essen_corpus,\n",
    "    idyom={\"pitch\": IDyOMConfig(\n",
    "        target_viewpoints=[\"cpitch\"],\n",
    "        source_viewpoints=[(\"cpint\", \"cpintfref\")],\n",
    "        ppm_order=1,\n",
    "        models=\":both\"\n",
    "    )},\n",
    "        fantastic=FantasticConfig(\n",
    "        max_ngram_order=2,\n",
    "        phrase_gap=1.5\n",
    "    ),\n",
    "    key_estimation=\"always_read_from_file\",\n",
    "    key_finding_algorithm=\"krumhansl_schmuckler\"\n",
    ")"
   ]
  },
  {
   "cell_type": "markdown",
   "id": "7f1ac66a",
   "metadata": {},
   "source": [
    "The `corpus` parameter operates on different levels. If you wish to use the same corpus for both FANTASTIC and IDyOM, you need only set it in the top level of `Config()`; you then do not need to supply it to `IDyOMConfig` or `FantasticConfig`. \n",
    "\n",
    "If you want to use different corpora for each different toolbox, `IDyOMConfig` and `FantasticConfig` will override whatever is supplied in the top level of `Config`."
   ]
  },
  {
   "cell_type": "code",
   "execution_count": null,
   "id": "340e265e",
   "metadata": {},
   "outputs": [],
   "source": [
    "# Initialise the config object with different corpora\n",
    "different_corpus_config = Config(\n",
    "    corpus=None, # will be overridden\n",
    "    idyom={\"pitch\": IDyOMConfig(\n",
    "        target_viewpoints=[\"cpitch\"],\n",
    "        source_viewpoints=[(\"cpint\", \"cpintfref\")],\n",
    "        ppm_order=1,\n",
    "        models=\":both\",\n",
    "        corpus=None\n",
    "    )},\n",
    "        fantastic=FantasticConfig(\n",
    "        max_ngram_order=2,\n",
    "        phrase_gap=1.5,\n",
    "        corpus=essen_corpus\n",
    "    ),\n",
    "    key_estimation=\"always_read_from_file\",\n",
    "    key_finding_algorithm=\"krumhansl_schmuckler\"\n",
    ")\n",
    "\n",
    "features_different_corpus = get_all_features(first_ten_essen, config=different_corpus_config)\n",
    "features_different_corpus.head()"
   ]
  },
  {
   "cell_type": "markdown",
   "id": "a1c75e9b",
   "metadata": {},
   "source": [
    "We can also supply multiple IDyOM configurations, allowing us to compute information content using different 'viewpoints' or corpora in one run of the feature set. This can be achieved like so:"
   ]
  },
  {
   "cell_type": "code",
   "execution_count": null,
   "id": "9fffc3ce-443c-4bfe-96e2-4828b5423a0a",
   "metadata": {},
   "outputs": [],
   "source": [
    "multi_idyom_config = Config(\n",
    "    corpus=essen_corpus,\n",
    "    idyom={\"pitch\": IDyOMConfig(\n",
    "        target_viewpoints=[\"cpitch\"],\n",
    "        source_viewpoints=[(\"cpint\", \"cpintfref\")],\n",
    "        ppm_order=1,\n",
    "        models=\":both\",\n",
    "        corpus=essen_corpus\n",
    "    ),\n",
    "    \"rhythm\": IDyOMConfig(\n",
    "        target_viewpoints=[\"onset\"],\n",
    "        source_viewpoints=[\"ioi\"],\n",
    "        ppm_order=1,\n",
    "        models=\":both\",\n",
    "        corpus=None\n",
    "    )},\n",
    "        fantastic=FantasticConfig(\n",
    "        max_ngram_order=2,\n",
    "        phrase_gap=1.5,\n",
    "        corpus=None\n",
    "    ),\n",
    "    key_estimation=\"always_read_from_file\",\n",
    "    key_finding_algorithm=\"krumhansl_schmuckler\"\n",
    ")"
   ]
  },
  {
   "cell_type": "code",
   "execution_count": null,
   "id": "159eb476",
   "metadata": {},
   "outputs": [],
   "source": [
    "# Now we can get the different IDyOM features along with everything else\n",
    "features_different_idyom = get_all_features(first_ten_essen, config=multi_idyom_config)\n",
    "features_different_idyom.head()"
   ]
  },
  {
   "cell_type": "markdown",
   "id": "ded732de",
   "metadata": {},
   "source": [
    "As well as skipping corpus-dependent features, we can choose to skip IDyOM entirely if we like, as it can be quite time-consuming if you don't intend to use its output:"
   ]
  },
  {
   "cell_type": "code",
   "execution_count": null,
   "id": "27bc8ba7-94d4-4782-973d-77fce255dfa1",
   "metadata": {},
   "outputs": [],
   "source": [
    "features_no_idyom = get_all_features(first_ten_essen, skip_idyom=True)\n",
    "features_no_idyom.head()"
   ]
  },
  {
   "cell_type": "markdown",
   "id": "9945ce6c-eb9c-4f0f-83d4-66e4233c5aa9",
   "metadata": {},
   "source": [
    "There are two other methods for `key_estimation`: `infer_if_necessary` and `always_infer`. These settings rely on `key_finding_algorithm` to estimate the key of the melody. Specifically, `infer_if_necessary` will attempt to read the key from the MIDI file, and if it is unable to detect key information, will estimate it using the method from `key_finding_algorithm`. `always_infer` will ignore any key information in the MIDI file and estimate it in the same fashion. "
   ]
  }
 ],
 "metadata": {
  "kernelspec": {
   "display_name": "Python 3 (ipykernel)",
   "language": "python",
   "name": "python3"
  },
  "language_info": {
   "codemirror_mode": {
    "name": "ipython",
    "version": 3
   },
   "file_extension": ".py",
   "mimetype": "text/x-python",
   "name": "python",
   "nbconvert_exporter": "python",
   "pygments_lexer": "ipython3",
   "version": "3.13.5"
  }
 },
 "nbformat": 4,
 "nbformat_minor": 5
}
